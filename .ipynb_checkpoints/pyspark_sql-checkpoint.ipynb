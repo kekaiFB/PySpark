{
 "cells": [
  {
   "cell_type": "code",
   "execution_count": 13,
   "metadata": {
    "id": "B25NO_y-P4nG"
   },
   "outputs": [
    {
     "name": "stdout",
     "output_type": "stream",
     "text": [
      "Запущен Spark версии 3.3.1\n"
     ]
    }
   ],
   "source": [
    "from pyspark import SparkConf, SparkContext\n",
    "from pyspark.sql import SparkSession\n",
    "conf = SparkConf()\n",
    "conf.setMaster(\"local\").setAppName('My app')\n",
    "sc = SparkContext.getOrCreate(conf=conf)\n",
    "spark = SparkSession(sc)\n",
    "print('Запущен Spark версии', spark.version)"
   ]
  },
  {
   "cell_type": "code",
   "execution_count": 14,
   "metadata": {
    "id": "d2bJO62aP9rL"
   },
   "outputs": [],
   "source": [
    "# читаем данные в DataFrame c автоматическим определение схемы:\n",
    "\n",
    "df = spark.read.format(\"csv\").option(\"header\", \"true\").load(\"cars.csv\")\n"
   ]
  },
  {
   "cell_type": "code",
   "execution_count": null,
   "metadata": {
    "colab": {
     "base_uri": "https://localhost:8080/"
    },
    "id": "aI3nsdM9QAUq",
    "outputId": "4f48e3ba-575a-4bd2-8ed8-3b17c49fc8ee"
   },
   "outputs": [
    {
     "name": "stdout",
     "output_type": "stream",
     "text": [
      "+-----------------+----------+------------+------+--------------+-------------+-----------+--------------+-----------+---------------+---------+------------+-----+----------+---------+---------------+---------------+----------------+----------+---------+---------+---------+---------+---------+---------+---------+---------+---------+---------+---------------+\n",
      "|manufacturer_name|model_name|transmission| color|odometer_value|year_produced|engine_fuel|engine_has_gas|engine_type|engine_capacity|body_type|has_warranty|state|drivetrain|price_usd|is_exchangeable|location_region|number_of_photos|up_counter|feature_0|feature_1|feature_2|feature_3|feature_4|feature_5|feature_6|feature_7|feature_8|feature_9|duration_listed|\n",
      "+-----------------+----------+------------+------+--------------+-------------+-----------+--------------+-----------+---------------+---------+------------+-----+----------+---------+---------------+---------------+----------------+----------+---------+---------+---------+---------+---------+---------+---------+---------+---------+---------+---------------+\n",
      "|           Subaru|   Outback|   automatic|silver|        190000|         2010|   gasoline|         False|   gasoline|            2.5|universal|       False|owned|       all|  10900.0|          False|   Минская обл.|               9|        13|    False|     True|     True|     True|    False|     True|    False|     True|     True|     True|             16|\n",
      "|           Subaru|   Outback|   automatic|  blue|        290000|         2002|   gasoline|         False|   gasoline|            3.0|universal|       False|owned|       all|   5000.0|           True|   Минская обл.|              12|        54|    False|     True|    False|    False|     True|     True|    False|    False|    False|     True|             83|\n",
      "|           Subaru|  Forester|   automatic|   red|        402000|         2001|   gasoline|         False|   gasoline|            2.5|      suv|       False|owned|       all|   2800.0|           True|   Минская обл.|               4|        72|    False|     True|    False|    False|    False|    False|    False|    False|     True|     True|            151|\n",
      "|           Subaru|   Impreza|  mechanical|  blue|         10000|         1999|   gasoline|         False|   gasoline|            3.0|    sedan|       False|owned|       all|   9999.0|           True|   Минская обл.|               9|        42|     True|    False|    False|    False|    False|    False|    False|    False|    False|    False|             86|\n",
      "|           Subaru|    Legacy|   automatic| black|        280000|         2001|   gasoline|         False|   gasoline|            2.5|universal|       False|owned|       all|  2134.11|           True|Гомельская обл.|              14|         7|    False|     True|    False|     True|     True|    False|    False|    False|    False|     True|              7|\n",
      "+-----------------+----------+------------+------+--------------+-------------+-----------+--------------+-----------+---------------+---------+------------+-----+----------+---------+---------------+---------------+----------------+----------+---------+---------+---------+---------+---------+---------+---------+---------+---------+---------+---------------+\n",
      "only showing top 5 rows\n",
      "\n"
     ]
    }
   ],
   "source": [
    "# вывести в консоль 5 строк из датафрейма:\n",
    "# ( Дополнительный параметр vertical=True выведет каждую строку данных построчно в виде колонка | значение)\n",
    "\n",
    "df.show(5).vertical"
   ]
  },
  {
   "cell_type": "code",
   "execution_count": null,
   "metadata": {
    "colab": {
     "base_uri": "https://localhost:8080/"
    },
    "id": "yUcOMyLEQCiu",
    "outputId": "fabc2a53-80da-4563-f9ee-a7a4bc2a96a5"
   },
   "outputs": [
    {
     "name": "stdout",
     "output_type": "stream",
     "text": [
      "-RECORD 0-------------------------\n",
      " manufacturer_name | Subaru       \n",
      " model_name        | Outback      \n",
      " transmission      | automatic    \n",
      " color             | silver       \n",
      " odometer_value    | 190000       \n",
      " year_produced     | 2010         \n",
      " engine_fuel       | gasoline     \n",
      " engine_has_gas    | False        \n",
      " engine_type       | gasoline     \n",
      " engine_capacity   | 2.5          \n",
      " body_type         | universal    \n",
      " has_warranty      | False        \n",
      " state             | owned        \n",
      " drivetrain        | all          \n",
      " price_usd         | 10900.0      \n",
      " is_exchangeable   | False        \n",
      " location_region   | Минская обл. \n",
      " number_of_photos  | 9            \n",
      " up_counter        | 13           \n",
      " feature_0         | False        \n",
      " feature_1         | True         \n",
      " feature_2         | True         \n",
      " feature_3         | True         \n",
      " feature_4         | False        \n",
      " feature_5         | True         \n",
      " feature_6         | False        \n",
      " feature_7         | True         \n",
      " feature_8         | True         \n",
      " feature_9         | True         \n",
      " duration_listed   | 16           \n",
      "only showing top 1 row\n",
      "\n"
     ]
    }
   ],
   "source": [
    "df.show(1, vertical=True)"
   ]
  },
  {
   "cell_type": "markdown",
   "metadata": {
    "id": "DsW9QuaaQM4h"
   },
   "source": [
    "# **.select()**\n",
    ".select() выберет только нужные колонки (по аналогии с выражением SELECT в SQL)"
   ]
  },
  {
   "cell_type": "code",
   "execution_count": null,
   "metadata": {
    "colab": {
     "base_uri": "https://localhost:8080/"
    },
    "id": "23MFn2CDQKEy",
    "outputId": "0de2206e-ff91-4868-9c7b-60102266c330"
   },
   "outputs": [
    {
     "name": "stdout",
     "output_type": "stream",
     "text": [
      "+-----------------+----------+------------+\n",
      "|manufacturer_name|model_name|transmission|\n",
      "+-----------------+----------+------------+\n",
      "|           Subaru|   Outback|   automatic|\n",
      "|           Subaru|   Outback|   automatic|\n",
      "|           Subaru|  Forester|   automatic|\n",
      "|           Subaru|   Impreza|  mechanical|\n",
      "|           Subaru|    Legacy|   automatic|\n",
      "+-----------------+----------+------------+\n",
      "only showing top 5 rows\n",
      "\n"
     ]
    }
   ],
   "source": [
    "# выбираем несколько колонок для отображения\n",
    "\n",
    "df.select(\"manufacturer_name\", \"model_name\", \"transmission\").show(5)"
   ]
  },
  {
   "cell_type": "code",
   "execution_count": null,
   "metadata": {
    "colab": {
     "base_uri": "https://localhost:8080/"
    },
    "id": "smVnWgLIQRPt",
    "outputId": "1ebe326b-6071-40a7-b02f-679134074a83"
   },
   "outputs": [
    {
     "name": "stdout",
     "output_type": "stream",
     "text": [
      "+-----------------+----------+------------+\n",
      "|manufacturer_name|model_name|transmission|\n",
      "+-----------------+----------+------------+\n",
      "|           Subaru|   Outback|   automatic|\n",
      "|           Subaru|   Outback|   automatic|\n",
      "|           Subaru|  Forester|   automatic|\n",
      "|           Subaru|   Impreza|  mechanical|\n",
      "|           Subaru|    Legacy|   automatic|\n",
      "+-----------------+----------+------------+\n",
      "only showing top 5 rows\n",
      "\n"
     ]
    }
   ],
   "source": [
    "# обратиться к колонке через указание датафрейма:\n",
    "\n",
    "df.select(df[\"manufacturer_name\"], df[\"model_name\"], df[\"transmission\"]).show(5)"
   ]
  },
  {
   "cell_type": "code",
   "execution_count": null,
   "metadata": {
    "colab": {
     "base_uri": "https://localhost:8080/"
    },
    "id": "lwdDcCqJQWQJ",
    "outputId": "5c3a0eca-8cdd-4fed-8afc-ae4f72bb3990"
   },
   "outputs": [
    {
     "name": "stdout",
     "output_type": "stream",
     "text": [
      "+-----------------+----------+------------+\n",
      "|manufacturer_name|model_name|transmission|\n",
      "+-----------------+----------+------------+\n",
      "|           Subaru|   Outback|   automatic|\n",
      "|           Subaru|   Outback|   automatic|\n",
      "|           Subaru|  Forester|   automatic|\n",
      "|           Subaru|   Impreza|  mechanical|\n",
      "|           Subaru|    Legacy|   automatic|\n",
      "+-----------------+----------+------------+\n",
      "only showing top 5 rows\n",
      "\n"
     ]
    }
   ],
   "source": [
    "# Или используя функцию колонки .col() из пакета functions\n",
    "\n",
    "import pyspark.sql.functions as F\n",
    "\n",
    "df.select(F.col(\"manufacturer_name\"), F.col(\"model_name\"), F.col(\"transmission\")).show(5)"
   ]
  },
  {
   "cell_type": "markdown",
   "metadata": {
    "id": "xLrJ5aJMQeS3"
   },
   "source": [
    "# **.filter()**\n",
    "Метод .filter() принимает условия для фильтрации:"
   ]
  },
  {
   "cell_type": "code",
   "execution_count": null,
   "metadata": {
    "colab": {
     "base_uri": "https://localhost:8080/"
    },
    "id": "yEv7dJWcQZ6b",
    "outputId": "b51ecd85-5f73-4c9c-cefa-11e714bb6b32"
   },
   "outputs": [
    {
     "name": "stdout",
     "output_type": "stream",
     "text": [
      "+-----------------+----------+------------+\n",
      "|manufacturer_name|model_name|transmission|\n",
      "+-----------------+----------+------------+\n",
      "|             Audi|        Q7|   automatic|\n",
      "|             Audi|        TT|   automatic|\n",
      "|             Audi|       100|  mechanical|\n",
      "|             Audi|        A6|   automatic|\n",
      "|             Audi|        Q3|   automatic|\n",
      "+-----------------+----------+------------+\n",
      "only showing top 5 rows\n",
      "\n"
     ]
    }
   ],
   "source": [
    "# выберем только марки Audi\n",
    "\n",
    "df.select(\"manufacturer_name\", \"model_name\", \"transmission\").filter(\"manufacturer_name = 'Audi'\").show(5)"
   ]
  },
  {
   "cell_type": "code",
   "execution_count": null,
   "metadata": {
    "colab": {
     "base_uri": "https://localhost:8080/"
    },
    "id": "zrFUFBlWQi-B",
    "outputId": "c09ad5bb-0d16-4c74-e615-654d449d77ae"
   },
   "outputs": [
    {
     "name": "stdout",
     "output_type": "stream",
     "text": [
      "+-----------------+----------+------------+\n",
      "|manufacturer_name|model_name|transmission|\n",
      "+-----------------+----------+------------+\n",
      "|             Audi|       100|  mechanical|\n",
      "|             Audi|A6 Allroad|  mechanical|\n",
      "|             Audi|       100|  mechanical|\n",
      "|             Audi|        A4|  mechanical|\n",
      "|             Audi|        80|  mechanical|\n",
      "+-----------------+----------+------------+\n",
      "only showing top 5 rows\n",
      "\n"
     ]
    }
   ],
   "source": [
    "# Цепочка условий:\n",
    "\n",
    "# выберем только марки Audi и ручной коробкой\n",
    "\n",
    "(\n",
    "    df\n",
    "    .select(\"manufacturer_name\", \"model_name\", \"transmission\")\n",
    "    .filter(\"manufacturer_name = 'Audi'\")\n",
    "    .filter(\"transmission = 'mechanical'\")\n",
    "    .show(5)\n",
    ")"
   ]
  },
  {
   "cell_type": "code",
   "execution_count": null,
   "metadata": {
    "colab": {
     "base_uri": "https://localhost:8080/"
    },
    "id": "vjPoWyxNQndv",
    "outputId": "92b4baa9-6a16-4d99-b75e-deccb34200ee"
   },
   "outputs": [
    {
     "name": "stdout",
     "output_type": "stream",
     "text": [
      "+-----------------+----------+------------+\n",
      "|manufacturer_name|model_name|transmission|\n",
      "+-----------------+----------+------------+\n",
      "|             Audi|       100|  mechanical|\n",
      "|             Audi|A6 Allroad|  mechanical|\n",
      "|             Audi|       100|  mechanical|\n",
      "|             Audi|        A4|  mechanical|\n",
      "|             Audi|        80|  mechanical|\n",
      "+-----------------+----------+------------+\n",
      "only showing top 5 rows\n",
      "\n"
     ]
    }
   ],
   "source": [
    "# Цепочка условий в виде одного SQL выражения:\n",
    "\n",
    "(\n",
    "    df\n",
    "    .select(\"manufacturer_name\", \"model_name\", \"transmission\")\n",
    "    .filter(\"manufacturer_name = 'Audi' and transmission = 'mechanical'\")\n",
    "    .show(5)\n",
    ")"
   ]
  },
  {
   "cell_type": "code",
   "execution_count": null,
   "metadata": {
    "colab": {
     "base_uri": "https://localhost:8080/"
    },
    "id": "7nUNSC-UQqw7",
    "outputId": "036dd260-b9cb-40dc-a0e0-85af5952a3da"
   },
   "outputs": [
    {
     "name": "stdout",
     "output_type": "stream",
     "text": [
      "+-----------------+----------+------------+\n",
      "|manufacturer_name|model_name|transmission|\n",
      "+-----------------+----------+------------+\n",
      "|             Audi|        Q7|   automatic|\n",
      "|             Audi|        TT|   automatic|\n",
      "|             Audi|        A6|   automatic|\n",
      "|             Audi|        Q3|   automatic|\n",
      "|             Audi|        Q5|   automatic|\n",
      "+-----------------+----------+------------+\n",
      "only showing top 5 rows\n",
      "\n"
     ]
    }
   ],
   "source": [
    "# Удобнее и логичнее использовать col() для составления условий фильтрации:\n",
    "\n",
    "(\n",
    "    df\n",
    "    .select(\"manufacturer_name\", \"model_name\", \"transmission\")\n",
    "    .filter(F.col(\"manufacturer_name\") == \"Audi\")\n",
    "    .filter(F.col(\"transmission\") != \"mechanical\")\n",
    "    .show(5)\n",
    ")"
   ]
  },
  {
   "cell_type": "markdown",
   "metadata": {
    "id": "3enm89nCQxsr"
   },
   "source": [
    "# **.count()**\n",
    "Подсчет кол-ва строк:"
   ]
  },
  {
   "cell_type": "code",
   "execution_count": null,
   "metadata": {
    "colab": {
     "base_uri": "https://localhost:8080/"
    },
    "id": "J5OrIjbYQu20",
    "outputId": "dddbb025-d169-458b-b0f3-daa6b1afdea5"
   },
   "outputs": [
    {
     "data": {
      "text/plain": [
       "38531"
      ]
     },
     "execution_count": 49,
     "metadata": {},
     "output_type": "execute_result"
    }
   ],
   "source": [
    "df.count()"
   ]
  },
  {
   "cell_type": "code",
   "execution_count": null,
   "metadata": {
    "colab": {
     "base_uri": "https://localhost:8080/"
    },
    "id": "Y8yqmRmAQ0-S",
    "outputId": "8b050041-c252-4118-e291-7d54672ac413"
   },
   "outputs": [
    {
     "data": {
      "text/plain": [
       "55"
      ]
     },
     "execution_count": 50,
     "metadata": {},
     "output_type": "execute_result"
    }
   ],
   "source": [
    "# Либо уникальных строк:\n",
    "\n",
    "df.select(\"manufacturer_name\").distinct().count()"
   ]
  },
  {
   "cell_type": "markdown",
   "metadata": {
    "id": "Z3mfeCkxQ6Un"
   },
   "source": [
    "# **.groupBy() and .orderBy()**\n",
    "Группировка и агрегация (аналог GROUP BY в SQL):"
   ]
  },
  {
   "cell_type": "code",
   "execution_count": null,
   "metadata": {
    "colab": {
     "base_uri": "https://localhost:8080/"
    },
    "id": "kNlzAAhlQ4FY",
    "outputId": "461a8d25-3494-42d8-ab24-17284aee6e76"
   },
   "outputs": [
    {
     "name": "stdout",
     "output_type": "stream",
     "text": [
      "+-----------------+-----+\n",
      "|manufacturer_name|count|\n",
      "+-----------------+-----+\n",
      "|       Volkswagen| 4243|\n",
      "|            Lexus|  213|\n",
      "|           Jaguar|   53|\n",
      "|            Rover|  235|\n",
      "|           Lancia|   92|\n",
      "+-----------------+-----+\n",
      "only showing top 5 rows\n",
      "\n"
     ]
    }
   ],
   "source": [
    "# сгрупировать по manufacturer_name и посчитать кол-во каждого\n",
    "\n",
    "df.groupBy(\"manufacturer_name\").count().show(5)"
   ]
  },
  {
   "cell_type": "code",
   "execution_count": null,
   "metadata": {
    "colab": {
     "base_uri": "https://localhost:8080/"
    },
    "id": "pI1arXJwQ-Uu",
    "outputId": "e840bd2a-96a7-4ada-9c69-f1816026d598"
   },
   "outputs": [
    {
     "name": "stdout",
     "output_type": "stream",
     "text": [
      "+-----------------+-----+\n",
      "|manufacturer_name|count|\n",
      "+-----------------+-----+\n",
      "|       Great Wall|   36|\n",
      "|          Lincoln|   36|\n",
      "|              ЗАЗ|   42|\n",
      "|          Pontiac|   42|\n",
      "|         Cadillac|   43|\n",
      "+-----------------+-----+\n",
      "only showing top 5 rows\n",
      "\n"
     ]
    }
   ],
   "source": [
    "# Сортировка по колонке по возрастанию:\n",
    "\n",
    "df.groupBy(\"manufacturer_name\").count().orderBy(\"count\").show(5)"
   ]
  },
  {
   "cell_type": "code",
   "execution_count": null,
   "metadata": {
    "colab": {
     "base_uri": "https://localhost:8080/"
    },
    "id": "NniD15wDRBGn",
    "outputId": "5e759b9d-c940-416f-c818-4349569b67bf"
   },
   "outputs": [
    {
     "name": "stdout",
     "output_type": "stream",
     "text": [
      "+-----------------+-----+\n",
      "|manufacturer_name|count|\n",
      "+-----------------+-----+\n",
      "|       Volkswagen| 4243|\n",
      "|             Opel| 2759|\n",
      "|              BMW| 2610|\n",
      "|             Ford| 2566|\n",
      "|          Renault| 2493|\n",
      "+-----------------+-----+\n",
      "only showing top 5 rows\n",
      "\n"
     ]
    }
   ],
   "source": [
    "# Сортировка по колонке по убыванию. Тут надо явно задать колонку через col():\n",
    "\n",
    "df.groupBy(\"manufacturer_name\").count().orderBy(F.col(\"count\").desc()).show(5)"
   ]
  },
  {
   "cell_type": "markdown",
   "metadata": {
    "id": "MxmptzpuRHjD"
   },
   "source": [
    "# .withColumnRenamed() and .withColumn()\n",
    "Переименовать существующую колонку:"
   ]
  },
  {
   "cell_type": "code",
   "execution_count": null,
   "metadata": {
    "colab": {
     "base_uri": "https://localhost:8080/"
    },
    "id": "h1wxBMA3RD-H",
    "outputId": "0e1c55e0-51a7-4f64-ae12-d8c4e7051b06"
   },
   "outputs": [
    {
     "name": "stdout",
     "output_type": "stream",
     "text": [
      "+------------+\n",
      "|manufacturer|\n",
      "+------------+\n",
      "|      Subaru|\n",
      "|      Subaru|\n",
      "|      Subaru|\n",
      "|      Subaru|\n",
      "|      Subaru|\n",
      "+------------+\n",
      "only showing top 5 rows\n",
      "\n"
     ]
    }
   ],
   "source": [
    "df.withColumnRenamed(\"manufacturer_name\", \"manufacturer\").select(\"manufacturer\").show(5)"
   ]
  },
  {
   "cell_type": "code",
   "execution_count": null,
   "metadata": {
    "colab": {
     "base_uri": "https://localhost:8080/"
    },
    "id": "AB5LS-dvRLvx",
    "outputId": "54104b0d-d27e-4ff3-8c32-bdc2319e787a"
   },
   "outputs": [
    {
     "name": "stdout",
     "output_type": "stream",
     "text": [
      "+-------------+---------+\n",
      "|year_produced|next_year|\n",
      "+-------------+---------+\n",
      "|         2010|   2011.0|\n",
      "|         2002|   2003.0|\n",
      "|         2001|   2002.0|\n",
      "|         1999|   2000.0|\n",
      "|         2001|   2002.0|\n",
      "+-------------+---------+\n",
      "only showing top 5 rows\n",
      "\n"
     ]
    }
   ],
   "source": [
    "# Создать новую колонку. \n",
    "# Первый аргумент это название новой колонки,\n",
    "#  второй агрумент это выражение \n",
    "# (обязательно использовать col() если ссылаемся на другую колонку):\n",
    "\n",
    "df.withColumn(\"next_year\", F.col(\"year_produced\") + 1).select(\"year_produced\", \"next_year\").show(5)"
   ]
  },
  {
   "cell_type": "markdown",
   "metadata": {
    "id": "mnNw5mguRSAl"
   },
   "source": [
    "# **.printSchema() and .describe()**\n",
    "Вывести схему датафрейма (типы колонок):"
   ]
  },
  {
   "cell_type": "code",
   "execution_count": null,
   "metadata": {
    "colab": {
     "base_uri": "https://localhost:8080/"
    },
    "id": "pa9eVbrURRkO",
    "outputId": "f38325dd-32ea-4bf7-852b-cdbcd7decf74"
   },
   "outputs": [
    {
     "name": "stdout",
     "output_type": "stream",
     "text": [
      "root\n",
      " |-- manufacturer_name: string (nullable = true)\n",
      " |-- model_name: string (nullable = true)\n",
      " |-- transmission: string (nullable = true)\n",
      " |-- color: string (nullable = true)\n",
      " |-- odometer_value: string (nullable = true)\n",
      " |-- year_produced: string (nullable = true)\n",
      " |-- engine_fuel: string (nullable = true)\n",
      " |-- engine_has_gas: string (nullable = true)\n",
      " |-- engine_type: string (nullable = true)\n",
      " |-- engine_capacity: string (nullable = true)\n",
      " |-- body_type: string (nullable = true)\n",
      " |-- has_warranty: string (nullable = true)\n",
      " |-- state: string (nullable = true)\n",
      " |-- drivetrain: string (nullable = true)\n",
      " |-- price_usd: string (nullable = true)\n",
      " |-- is_exchangeable: string (nullable = true)\n",
      " |-- location_region: string (nullable = true)\n",
      " |-- number_of_photos: string (nullable = true)\n",
      " |-- up_counter: string (nullable = true)\n",
      " |-- feature_0: string (nullable = true)\n",
      " |-- feature_1: string (nullable = true)\n",
      " |-- feature_2: string (nullable = true)\n",
      " |-- feature_3: string (nullable = true)\n",
      " |-- feature_4: string (nullable = true)\n",
      " |-- feature_5: string (nullable = true)\n",
      " |-- feature_6: string (nullable = true)\n",
      " |-- feature_7: string (nullable = true)\n",
      " |-- feature_8: string (nullable = true)\n",
      " |-- feature_9: string (nullable = true)\n",
      " |-- duration_listed: string (nullable = true)\n",
      "\n"
     ]
    }
   ],
   "source": [
    "df.printSchema()"
   ]
  },
  {
   "cell_type": "code",
   "execution_count": null,
   "metadata": {
    "colab": {
     "base_uri": "https://localhost:8080/"
    },
    "id": "UoeZwUtQRXYe",
    "outputId": "48c06f45-b5ec-4323-e3ca-f767cc5a0307"
   },
   "outputs": [
    {
     "data": {
      "text/plain": [
       "StructType([StructField('manufacturer_name', StringType(), True), StructField('model_name', StringType(), True), StructField('transmission', StringType(), True), StructField('color', StringType(), True), StructField('odometer_value', StringType(), True), StructField('year_produced', StringType(), True), StructField('engine_fuel', StringType(), True), StructField('engine_has_gas', StringType(), True), StructField('engine_type', StringType(), True), StructField('engine_capacity', StringType(), True), StructField('body_type', StringType(), True), StructField('has_warranty', StringType(), True), StructField('state', StringType(), True), StructField('drivetrain', StringType(), True), StructField('price_usd', StringType(), True), StructField('is_exchangeable', StringType(), True), StructField('location_region', StringType(), True), StructField('number_of_photos', StringType(), True), StructField('up_counter', StringType(), True), StructField('feature_0', StringType(), True), StructField('feature_1', StringType(), True), StructField('feature_2', StringType(), True), StructField('feature_3', StringType(), True), StructField('feature_4', StringType(), True), StructField('feature_5', StringType(), True), StructField('feature_6', StringType(), True), StructField('feature_7', StringType(), True), StructField('feature_8', StringType(), True), StructField('feature_9', StringType(), True), StructField('duration_listed', StringType(), True)])"
      ]
     },
     "execution_count": 57,
     "metadata": {},
     "output_type": "execute_result"
    }
   ],
   "source": [
    "df.schema"
   ]
  },
  {
   "cell_type": "code",
   "execution_count": null,
   "metadata": {
    "colab": {
     "base_uri": "https://localhost:8080/"
    },
    "id": "e24aAHRgRZub",
    "outputId": "a2eb325a-d2ad-4ec4-c59c-05cfb22140a2"
   },
   "outputs": [
    {
     "name": "stdout",
     "output_type": "stream",
     "text": [
      "+-------+-----------------+------------------+------------------+-----------------+\n",
      "|summary|manufacturer_name|        model_name|     year_produced|        price_usd|\n",
      "+-------+-----------------+------------------+------------------+-----------------+\n",
      "|  count|            38531|             38531|             38531|            38531|\n",
      "|   mean|             null|1168.2918056562726|2002.9437336170874|6639.971021255605|\n",
      "| stddev|             null| 9820.119520829581| 8.065730511309935|6428.152018202911|\n",
      "|    min|            Acura|               100|              1942|              1.0|\n",
      "|    max|              УАЗ|            Таврия|              2019|           9999.0|\n",
      "+-------+-----------------+------------------+------------------+-----------------+\n",
      "\n"
     ]
    }
   ],
   "source": [
    "# Вывести сводную статистику по датафрейму:\n",
    "\n",
    "df.select(\"manufacturer_name\", \"model_name\", \"year_produced\", \"price_usd\").describe().show()"
   ]
  },
  {
   "cell_type": "markdown",
   "metadata": {
    "id": "oBV-BXPHXWDR"
   },
   "source": [
    "Задача. Сделать пайплайн обработки файла cars.csv.\n",
    "\n",
    "Необходимо посчитать по каждому производителю (поле manufacturer_name):\n",
    "\n",
    "кол-во объявлений\n",
    "средний год выпуска автомобилей\n",
    "минимальную цену\n",
    "максимальную цену\n",
    "Выгрузить результат в output.csv."
   ]
  },
  {
   "cell_type": "code",
   "execution_count": null,
   "metadata": {
    "id": "Jc0vDzYxXAVO"
   },
   "outputs": [],
   "source": [
    "from pyspark.sql import SparkSession, DataFrame\n",
    "import pyspark.sql.functions as F\n",
    "import pyspark.sql.types as t\n",
    "\n",
    "\n",
    "def extract_data(spark: SparkSession) -> DataFrame:\n",
    "    path = \"/content/cars.csv\"\n",
    "    return spark.read.option(\"header\", \"true\").csv(path)\n",
    "\n",
    "\n",
    "def transform_data(df: DataFrame) -> DataFrame:\n",
    "    output = (\n",
    "        df\n",
    "        .groupBy(\"manufacturer_name\")\n",
    "        .agg(\n",
    "            F.count(\"manufacturer_name\").alias(\"count_ads\"),\n",
    "            F.round(F.avg(\"year_produced\")).cast(t.IntegerType()).alias(\"avg_year_produced\"),\n",
    "            F.min(\"price_usd\").alias(\"min_price\"),\n",
    "            F.max(\"price_usd\").alias(\"max_price\"),\n",
    "        )\n",
    "        .orderBy(F.col(\"count_ads\").desc())\n",
    "    )\n",
    "    return output\n",
    "\n",
    "\n",
    "def save_data(df: DataFrame) -> None:\n",
    "    df.coalesce(4).write.mode(\"overwrite\").format(\"json\").save(\"/content/output.json\")\n",
    "\n",
    "\n",
    "def main():\n",
    "    spark = SparkSession.builder.appName(\"Practice\").getOrCreate()\n",
    "    df = extract_data(spark)\n",
    "    output = transform_data(df)\n",
    "    save_data(output)\n",
    "    #spark.stop()\n",
    "\n",
    "main()"
   ]
  },
  {
   "cell_type": "code",
   "execution_count": null,
   "metadata": {
    "id": "FgSug8XGRehy"
   },
   "outputs": [],
   "source": [
    "spark.stop()\n"
   ]
  }
 ],
 "metadata": {
  "colab": {
   "provenance": []
  },
  "kernelspec": {
   "display_name": "Python 3 (ipykernel)",
   "language": "python",
   "name": "python3"
  },
  "language_info": {
   "codemirror_mode": {
    "name": "ipython",
    "version": 3
   },
   "file_extension": ".py",
   "mimetype": "text/x-python",
   "name": "python",
   "nbconvert_exporter": "python",
   "pygments_lexer": "ipython3",
   "version": "3.9.13"
  }
 },
 "nbformat": 4,
 "nbformat_minor": 1
}
