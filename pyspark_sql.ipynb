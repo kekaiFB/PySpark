{
 "cells": [
  {
   "cell_type": "code",
   "execution_count": 22,
   "metadata": {
    "id": "B25NO_y-P4nG"
   },
   "outputs": [
    {
     "name": "stdout",
     "output_type": "stream",
     "text": [
      "Запущен Spark версии 3.3.1\n"
     ]
    }
   ],
   "source": [
    "from pyspark import SparkConf, SparkContext\n",
    "from pyspark.sql import SparkSession\n",
    "conf = SparkConf()\n",
    "conf.setMaster(\"local\").setAppName('My app')\n",
    "sc = SparkContext.getOrCreate(conf=conf)\n",
    "spark = SparkSession(sc)\n",
    "print('Запущен Spark версии', spark.version)"
   ]
  },
  {
   "cell_type": "code",
   "execution_count": 23,
   "metadata": {
    "id": "d2bJO62aP9rL"
   },
   "outputs": [],
   "source": [
    "# читаем данные в DataFrame c автоматическим определение схемы:\n",
    "\n",
    "df = spark.read.format(\"csv\").option(\"header\", \"true\").load(\"cars.csv\")\n"
   ]
  },
  {
   "cell_type": "code",
   "execution_count": 28,
   "metadata": {
    "colab": {
     "base_uri": "https://localhost:8080/"
    },
    "id": "aI3nsdM9QAUq",
    "outputId": "4f48e3ba-575a-4bd2-8ed8-3b17c49fc8ee"
   },
   "outputs": [
    {
     "data": {
      "text/plain": [
       "<bound method DataFrame.head of DataFrame[manufacturer_name: string, model_name: string, transmission: string, color: string, odometer_value: string, year_produced: string, engine_fuel: string, engine_has_gas: string, engine_type: string, engine_capacity: string, body_type: string, has_warranty: string, state: string, drivetrain: string, price_usd: string, is_exchangeable: string, location_region: string, number_of_photos: string, up_counter: string, feature_0: string, feature_1: string, feature_2: string, feature_3: string, feature_4: string, feature_5: string, feature_6: string, feature_7: string, feature_8: string, feature_9: string, duration_listed: string]>"
      ]
     },
     "execution_count": 28,
     "metadata": {},
     "output_type": "execute_result"
    }
   ],
   "source": [
    "# вывести в консоль 5 строк из датафрейма:\n",
    "# ( Дополнительный параметр vertical=True выведет каждую строку данных построчно в виде колонка | значение)\n",
    "print(df)"
   ]
  },
  {
   "cell_type": "code",
   "execution_count": 29,
   "metadata": {
    "colab": {
     "base_uri": "https://localhost:8080/"
    },
    "id": "yUcOMyLEQCiu",
    "outputId": "fabc2a53-80da-4563-f9ee-a7a4bc2a96a5"
   },
   "outputs": [
    {
     "name": "stdout",
     "output_type": "stream",
     "text": [
      "-RECORD 0-------------------------\n",
      " manufacturer_name | Subaru       \n",
      " model_name        | Outback      \n",
      " transmission      | automatic    \n",
      " color             | silver       \n",
      " odometer_value    | 190000       \n",
      " year_produced     | 2010         \n",
      " engine_fuel       | gasoline     \n",
      " engine_has_gas    | False        \n",
      " engine_type       | gasoline     \n",
      " engine_capacity   | 2.5          \n",
      " body_type         | universal    \n",
      " has_warranty      | False        \n",
      " state             | owned        \n",
      " drivetrain        | all          \n",
      " price_usd         | 10900.0      \n",
      " is_exchangeable   | False        \n",
      " location_region   | Минская обл. \n",
      " number_of_photos  | 9            \n",
      " up_counter        | 13           \n",
      " feature_0         | False        \n",
      " feature_1         | True         \n",
      " feature_2         | True         \n",
      " feature_3         | True         \n",
      " feature_4         | False        \n",
      " feature_5         | True         \n",
      " feature_6         | False        \n",
      " feature_7         | True         \n",
      " feature_8         | True         \n",
      " feature_9         | True         \n",
      " duration_listed   | 16           \n",
      "only showing top 1 row\n",
      "\n"
     ]
    }
   ],
   "source": [
    "df.show(1, vertical=True)"
   ]
  },
  {
   "cell_type": "markdown",
   "metadata": {
    "id": "DsW9QuaaQM4h"
   },
   "source": [
    "# **.select()**\n",
    ".select() выберет только нужные колонки (по аналогии с выражением SELECT в SQL)"
   ]
  },
  {
   "cell_type": "code",
   "execution_count": 33,
   "metadata": {
    "colab": {
     "base_uri": "https://localhost:8080/"
    },
    "id": "23MFn2CDQKEy",
    "outputId": "0de2206e-ff91-4868-9c7b-60102266c330"
   },
   "outputs": [
    {
     "name": "stdout",
     "output_type": "stream",
     "text": [
      "+-----------------+----------+------------+\n",
      "|manufacturer_name|model_name|transmission|\n",
      "+-----------------+----------+------------+\n",
      "|           Subaru|   Outback|   automatic|\n",
      "|           Subaru|   Outback|   automatic|\n",
      "|           Subaru|  Forester|   automatic|\n",
      "|           Subaru|   Impreza|  mechanical|\n",
      "|           Subaru|    Legacy|   automatic|\n",
      "+-----------------+----------+------------+\n",
      "only showing top 5 rows\n",
      "\n",
      "+-----------------+----------+------------+\n",
      "|manufacturer_name|model_name|transmission|\n",
      "+-----------------+----------+------------+\n",
      "|           Subaru|   Outback|   automatic|\n",
      "|           Subaru|   Outback|   automatic|\n",
      "|           Subaru|  Forester|   automatic|\n",
      "|           Subaru|   Impreza|  mechanical|\n",
      "|           Subaru|    Legacy|   automatic|\n",
      "+-----------------+----------+------------+\n",
      "only showing top 5 rows\n",
      "\n",
      "+-----------------+----------+------------+\n",
      "|manufacturer_name|model_name|transmission|\n",
      "+-----------------+----------+------------+\n",
      "|           Subaru|   Outback|   automatic|\n",
      "|           Subaru|   Outback|   automatic|\n",
      "|           Subaru|  Forester|   automatic|\n",
      "|           Subaru|   Impreza|  mechanical|\n",
      "|           Subaru|    Legacy|   automatic|\n",
      "+-----------------+----------+------------+\n",
      "only showing top 5 rows\n",
      "\n"
     ]
    }
   ],
   "source": [
    "# выбираем несколько колонок для отображения\n",
    "\n",
    "df.select(\"manufacturer_name\", \"model_name\", \"transmission\").show(5)\n",
    "\n",
    "df.select(df[\"manufacturer_name\"], df[\"model_name\"], df[\"transmission\"]).show(5)\n",
    "\n",
    "import pyspark.sql.functions as F\n",
    "df.select(F.col(\"manufacturer_name\"), F.col(\"model_name\"), F.col(\"transmission\")).show(5)"
   ]
  },
  {
   "cell_type": "code",
   "execution_count": null,
   "metadata": {
    "colab": {
     "base_uri": "https://localhost:8080/"
    },
    "id": "yEv7dJWcQZ6b",
    "outputId": "b51ecd85-5f73-4c9c-cefa-11e714bb6b32"
   },
   "outputs": [
    {
     "name": "stdout",
     "output_type": "stream",
     "text": [
      "+-----------------+----------+------------+\n",
      "|manufacturer_name|model_name|transmission|\n",
      "+-----------------+----------+------------+\n",
      "|             Audi|        Q7|   automatic|\n",
      "|             Audi|        TT|   automatic|\n",
      "|             Audi|       100|  mechanical|\n",
      "|             Audi|        A6|   automatic|\n",
      "|             Audi|        Q3|   automatic|\n",
      "+-----------------+----------+------------+\n",
      "only showing top 5 rows\n",
      "\n"
     ]
    }
   ],
   "source": [
    "# выберем только марки Audi\n",
    "df.select(\"manufacturer_name\", \"model_name\", \"transmission\").filter(\"manufacturer_name = 'Audi'\").show(5)"
   ]
  },
  {
   "cell_type": "code",
   "execution_count": null,
   "metadata": {
    "colab": {
     "base_uri": "https://localhost:8080/"
    },
    "id": "zrFUFBlWQi-B",
    "outputId": "c09ad5bb-0d16-4c74-e615-654d449d77ae"
   },
   "outputs": [
    {
     "name": "stdout",
     "output_type": "stream",
     "text": [
      "+-----------------+----------+------------+\n",
      "|manufacturer_name|model_name|transmission|\n",
      "+-----------------+----------+------------+\n",
      "|             Audi|       100|  mechanical|\n",
      "|             Audi|A6 Allroad|  mechanical|\n",
      "|             Audi|       100|  mechanical|\n",
      "|             Audi|        A4|  mechanical|\n",
      "|             Audi|        80|  mechanical|\n",
      "+-----------------+----------+------------+\n",
      "only showing top 5 rows\n",
      "\n"
     ]
    }
   ],
   "source": [
    "# Цепочка условий:\n",
    "\n",
    "# выберем только марки Audi и ручной коробкой\n",
    "\n",
    "(\n",
    "    df\n",
    "    .select(\"manufacturer_name\", \"model_name\", \"transmission\")\n",
    "    .filter(\"manufacturer_name = 'Audi'\")\n",
    "    .filter(\"transmission = 'mechanical'\")\n",
    "    .show(5)\n",
    ")"
   ]
  },
  {
   "cell_type": "code",
   "execution_count": null,
   "metadata": {
    "colab": {
     "base_uri": "https://localhost:8080/"
    },
    "id": "vjPoWyxNQndv",
    "outputId": "92b4baa9-6a16-4d99-b75e-deccb34200ee"
   },
   "outputs": [
    {
     "name": "stdout",
     "output_type": "stream",
     "text": [
      "+-----------------+----------+------------+\n",
      "|manufacturer_name|model_name|transmission|\n",
      "+-----------------+----------+------------+\n",
      "|             Audi|       100|  mechanical|\n",
      "|             Audi|A6 Allroad|  mechanical|\n",
      "|             Audi|       100|  mechanical|\n",
      "|             Audi|        A4|  mechanical|\n",
      "|             Audi|        80|  mechanical|\n",
      "+-----------------+----------+------------+\n",
      "only showing top 5 rows\n",
      "\n"
     ]
    }
   ],
   "source": [
    "# Цепочка условий в виде одного SQL выражения:\n",
    "\n",
    "(\n",
    "    df\n",
    "    .select(\"manufacturer_name\", \"model_name\", \"transmission\")\n",
    "    .filter(\"manufacturer_name = 'Audi' and transmission = 'mechanical'\")\n",
    "    .show(5)\n",
    ")"
   ]
  },
  {
   "cell_type": "code",
   "execution_count": null,
   "metadata": {
    "colab": {
     "base_uri": "https://localhost:8080/"
    },
    "id": "7nUNSC-UQqw7",
    "outputId": "036dd260-b9cb-40dc-a0e0-85af5952a3da"
   },
   "outputs": [
    {
     "name": "stdout",
     "output_type": "stream",
     "text": [
      "+-----------------+----------+------------+\n",
      "|manufacturer_name|model_name|transmission|\n",
      "+-----------------+----------+------------+\n",
      "|             Audi|        Q7|   automatic|\n",
      "|             Audi|        TT|   automatic|\n",
      "|             Audi|        A6|   automatic|\n",
      "|             Audi|        Q3|   automatic|\n",
      "|             Audi|        Q5|   automatic|\n",
      "+-----------------+----------+------------+\n",
      "only showing top 5 rows\n",
      "\n"
     ]
    }
   ],
   "source": [
    "# Удобнее и логичнее использовать col() для составления условий фильтрации:\n",
    "\n",
    "(\n",
    "    df\n",
    "    .select(\"manufacturer_name\", \"model_name\", \"transmission\")\n",
    "    .filter(F.col(\"manufacturer_name\") == \"Audi\")\n",
    "    .filter(F.col(\"transmission\") != \"mechanical\")\n",
    "    .show(5)\n",
    ")"
   ]
  },
  {
   "cell_type": "code",
   "execution_count": null,
   "metadata": {
    "colab": {
     "base_uri": "https://localhost:8080/"
    },
    "id": "Y8yqmRmAQ0-S",
    "outputId": "8b050041-c252-4118-e291-7d54672ac413"
   },
   "outputs": [
    {
     "data": {
      "text/plain": [
       "55"
      ]
     },
     "execution_count": 50,
     "metadata": {},
     "output_type": "execute_result"
    }
   ],
   "source": [
    "# уникальные строки:\n",
    "\n",
    "df.select(\"manufacturer_name\").distinct().count()"
   ]
  },
  {
   "cell_type": "code",
   "execution_count": 39,
   "metadata": {
    "colab": {
     "base_uri": "https://localhost:8080/"
    },
    "id": "NniD15wDRBGn",
    "outputId": "5e759b9d-c940-416f-c818-4349569b67bf"
   },
   "outputs": [
    {
     "name": "stdout",
     "output_type": "stream",
     "text": [
      "+-----------------+-----+\n",
      "|manufacturer_name|count|\n",
      "+-----------------+-----+\n",
      "|       Volkswagen| 4243|\n",
      "|             Opel| 2759|\n",
      "|              BMW| 2610|\n",
      "|             Ford| 2566|\n",
      "|          Renault| 2493|\n",
      "|             Audi| 2468|\n",
      "|    Mercedes-Benz| 2237|\n",
      "|          Peugeot| 1909|\n",
      "|          Citroen| 1562|\n",
      "|           Nissan| 1361|\n",
      "|            Mazda| 1328|\n",
      "|           Toyota| 1246|\n",
      "|          Hyundai| 1116|\n",
      "|            Skoda| 1089|\n",
      "|              Kia|  912|\n",
      "|       Mitsubishi|  887|\n",
      "|             Fiat|  824|\n",
      "|            Honda|  797|\n",
      "|            Volvo|  721|\n",
      "|              ВАЗ|  481|\n",
      "+-----------------+-----+\n",
      "only showing top 20 rows\n",
      "\n"
     ]
    }
   ],
   "source": [
    "df.groupBy(\"manufacturer_name\").count().orderBy(F.col(\"count\").desc()).show()"
   ]
  },
  {
   "cell_type": "code",
   "execution_count": null,
   "metadata": {
    "colab": {
     "base_uri": "https://localhost:8080/"
    },
    "id": "h1wxBMA3RD-H",
    "outputId": "0e1c55e0-51a7-4f64-ae12-d8c4e7051b06"
   },
   "outputs": [
    {
     "name": "stdout",
     "output_type": "stream",
     "text": [
      "+------------+\n",
      "|manufacturer|\n",
      "+------------+\n",
      "|      Subaru|\n",
      "|      Subaru|\n",
      "|      Subaru|\n",
      "|      Subaru|\n",
      "|      Subaru|\n",
      "+------------+\n",
      "only showing top 5 rows\n",
      "\n"
     ]
    }
   ],
   "source": [
    "df.withColumnRenamed(\"manufacturer_name\", \"manufacturer\").select(\"manufacturer\").show(5)"
   ]
  },
  {
   "cell_type": "code",
   "execution_count": null,
   "metadata": {
    "colab": {
     "base_uri": "https://localhost:8080/"
    },
    "id": "AB5LS-dvRLvx",
    "outputId": "54104b0d-d27e-4ff3-8c32-bdc2319e787a"
   },
   "outputs": [
    {
     "name": "stdout",
     "output_type": "stream",
     "text": [
      "+-------------+---------+\n",
      "|year_produced|next_year|\n",
      "+-------------+---------+\n",
      "|         2010|   2011.0|\n",
      "|         2002|   2003.0|\n",
      "|         2001|   2002.0|\n",
      "|         1999|   2000.0|\n",
      "|         2001|   2002.0|\n",
      "+-------------+---------+\n",
      "only showing top 5 rows\n",
      "\n"
     ]
    }
   ],
   "source": [
    "df.withColumn(\"next_year\", F.col(\"year_produced\") + 1).select(\"year_produced\", \"next_year\").show(5)"
   ]
  },
  {
   "cell_type": "code",
   "execution_count": null,
   "metadata": {
    "colab": {
     "base_uri": "https://localhost:8080/"
    },
    "id": "pa9eVbrURRkO",
    "outputId": "f38325dd-32ea-4bf7-852b-cdbcd7decf74"
   },
   "outputs": [
    {
     "name": "stdout",
     "output_type": "stream",
     "text": [
      "root\n",
      " |-- manufacturer_name: string (nullable = true)\n",
      " |-- model_name: string (nullable = true)\n",
      " |-- transmission: string (nullable = true)\n",
      " |-- color: string (nullable = true)\n",
      " |-- odometer_value: string (nullable = true)\n",
      " |-- year_produced: string (nullable = true)\n",
      " |-- engine_fuel: string (nullable = true)\n",
      " |-- engine_has_gas: string (nullable = true)\n",
      " |-- engine_type: string (nullable = true)\n",
      " |-- engine_capacity: string (nullable = true)\n",
      " |-- body_type: string (nullable = true)\n",
      " |-- has_warranty: string (nullable = true)\n",
      " |-- state: string (nullable = true)\n",
      " |-- drivetrain: string (nullable = true)\n",
      " |-- price_usd: string (nullable = true)\n",
      " |-- is_exchangeable: string (nullable = true)\n",
      " |-- location_region: string (nullable = true)\n",
      " |-- number_of_photos: string (nullable = true)\n",
      " |-- up_counter: string (nullable = true)\n",
      " |-- feature_0: string (nullable = true)\n",
      " |-- feature_1: string (nullable = true)\n",
      " |-- feature_2: string (nullable = true)\n",
      " |-- feature_3: string (nullable = true)\n",
      " |-- feature_4: string (nullable = true)\n",
      " |-- feature_5: string (nullable = true)\n",
      " |-- feature_6: string (nullable = true)\n",
      " |-- feature_7: string (nullable = true)\n",
      " |-- feature_8: string (nullable = true)\n",
      " |-- feature_9: string (nullable = true)\n",
      " |-- duration_listed: string (nullable = true)\n",
      "\n"
     ]
    }
   ],
   "source": [
    "#Выведем схему датафрейма (типы колонок)\n",
    "df.printSchema()"
   ]
  },
  {
   "cell_type": "code",
   "execution_count": 44,
   "metadata": {
    "colab": {
     "base_uri": "https://localhost:8080/"
    },
    "id": "e24aAHRgRZub",
    "outputId": "a2eb325a-d2ad-4ec4-c59c-05cfb22140a2"
   },
   "outputs": [
    {
     "name": "stdout",
     "output_type": "stream",
     "text": [
      "+-------+-----------------+------------------+------------------+-----------------+\n",
      "|summary|manufacturer_name|        model_name|     year_produced|        price_usd|\n",
      "+-------+-----------------+------------------+------------------+-----------------+\n",
      "|  count|            38531|             38531|             38531|            38531|\n",
      "|   mean|             null|1168.2918056562726|2002.9437336170874|6639.971021255604|\n",
      "| stddev|             null| 9820.119520829561| 8.065730511309887|6428.152018202918|\n",
      "|    min|            Acura|               100|              1942|              1.0|\n",
      "|    max|              УАЗ|            Таврия|              2019|           9999.0|\n",
      "+-------+-----------------+------------------+------------------+-----------------+\n",
      "\n"
     ]
    }
   ],
   "source": [
    "# Вывести сводную статистику по датафрейму:\n",
    "\n",
    "df.select(\"manufacturer_name\", \"model_name\", \"year_produced\", \"price_usd\").describe().show()"
   ]
  },
  {
   "cell_type": "markdown",
   "metadata": {
    "id": "oBV-BXPHXWDR"
   },
   "source": [
    "Задача. Сделать пайплайн обработки файла cars.csv.\n",
    "\n",
    "Необходимо посчитать по каждому производителю (поле manufacturer_name):\n",
    "\n",
    "кол-во объявлений\n",
    "средний год выпуска автомобилей\n",
    "минимальную цену\n",
    "максимальную цену\n",
    "Выгрузить результат в output.csv."
   ]
  },
  {
   "cell_type": "code",
   "execution_count": null,
   "metadata": {
    "id": "Jc0vDzYxXAVO"
   },
   "outputs": [],
   "source": [
    "from pyspark.sql import SparkSession, DataFrame\n",
    "import pyspark.sql.functions as F\n",
    "import pyspark.sql.types as t\n",
    "\n",
    "\n",
    "def extract_data(spark: SparkSession) -> DataFrame:\n",
    "    path = \"/content/cars.csv\"\n",
    "    return spark.read.option(\"header\", \"true\").csv(path)\n",
    "\n",
    "\n",
    "def transform_data(df: DataFrame) -> DataFrame:\n",
    "    output = (\n",
    "        df\n",
    "        .groupBy(\"manufacturer_name\")\n",
    "        .agg(\n",
    "            F.count(\"manufacturer_name\").alias(\"count_ads\"),\n",
    "            F.round(F.avg(\"year_produced\")).cast(t.IntegerType()).alias(\"avg_year_produced\"),\n",
    "            F.min(\"price_usd\").alias(\"min_price\"),\n",
    "            F.max(\"price_usd\").alias(\"max_price\"),\n",
    "        )\n",
    "        .orderBy(F.col(\"count_ads\").desc())\n",
    "    )\n",
    "    return output\n",
    "\n",
    "\n",
    "def save_data(df: DataFrame) -> None:\n",
    "    df.coalesce(4).write.mode(\"overwrite\").format(\"json\").save(\"/content/output.json\")\n",
    "\n",
    "\n",
    "def main():\n",
    "    spark = SparkSession.builder.appName(\"Practice\").getOrCreate()\n",
    "    df = extract_data(spark)\n",
    "    output = transform_data(df)\n",
    "    save_data(output)\n",
    "    #spark.stop()\n",
    "\n",
    "main()"
   ]
  },
  {
   "cell_type": "code",
   "execution_count": null,
   "metadata": {
    "id": "FgSug8XGRehy"
   },
   "outputs": [],
   "source": [
    "spark.stop()\n"
   ]
  }
 ],
 "metadata": {
  "colab": {
   "provenance": []
  },
  "kernelspec": {
   "display_name": "Python 3 (ipykernel)",
   "language": "python",
   "name": "python3"
  },
  "language_info": {
   "codemirror_mode": {
    "name": "ipython",
    "version": 3
   },
   "file_extension": ".py",
   "mimetype": "text/x-python",
   "name": "python",
   "nbconvert_exporter": "python",
   "pygments_lexer": "ipython3",
   "version": "3.9.13"
  }
 },
 "nbformat": 4,
 "nbformat_minor": 1
}
